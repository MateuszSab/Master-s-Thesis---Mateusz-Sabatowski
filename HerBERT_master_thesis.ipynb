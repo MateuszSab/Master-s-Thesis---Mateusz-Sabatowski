{
  "nbformat": 4,
  "nbformat_minor": 0,
  "metadata": {
    "colab": {
      "name": "BERT_master_thesis.ipynb",
      "provenance": [],
      "authorship_tag": "ABX9TyPbjfxuBjMPpcwpgYOwrbf3"
    },
    "kernelspec": {
      "name": "python3",
      "display_name": "Python 3"
    },
    "language_info": {
      "name": "python"
    },
    "accelerator": "GPU"
  },
  "cells": [
    {
      "cell_type": "markdown",
      "metadata": {
        "id": "2RmxeGHjia-A"
      },
      "source": [
        "# This notebook contains code with sentence classificator HerBERT with fine-tuning."
      ]
    },
    {
      "cell_type": "code",
      "metadata": {
        "id": "3xOV0kYTk0oj"
      },
      "source": [
        "# Necessary imports and installations\n",
        "import pandas as pd\n",
        "import numpy as np\n",
        "import random\n",
        "!pip install transformers\n",
        "import torch\n",
        "from transformers import HerbertTokenizerFast, BertForMaskedLM, BertForSequenceClassification, pipeline\n",
        "from torch.utils.data import Dataset, TensorDataset, DataLoader\n",
        "from torch.nn.utils.rnn import pad_sequence"
      ],
      "execution_count": null,
      "outputs": []
    },
    {
      "cell_type": "markdown",
      "metadata": {
        "id": "taG60HcBigTT"
      },
      "source": [
        "**Upload file named \"data\" in csv format with data. **\n",
        "\n",
        "\n",
        "---\n",
        "\n",
        "\n",
        "\n",
        "\n",
        "\n",
        "\n",
        "\n",
        "\n",
        "\n",
        "\n",
        "\n"
      ]
    },
    {
      "cell_type": "code",
      "metadata": {
        "id": "kuFGnPKBlD_b"
      },
      "source": [
        "df = pd.read_csv('/content/data.csv')"
      ],
      "execution_count": null,
      "outputs": []
    },
    {
      "cell_type": "code",
      "metadata": {
        "colab": {
          "base_uri": "https://localhost:8080/",
          "height": 423
        },
        "id": "Jr2uu46aju1K",
        "outputId": "538c6d47-5984-490e-8441-df4992e4547a"
      },
      "source": [
        "df"
      ],
      "execution_count": null,
      "outputs": [
        {
          "output_type": "execute_result",
          "data": {
            "text/html": [
              "<div>\n",
              "<style scoped>\n",
              "    .dataframe tbody tr th:only-of-type {\n",
              "        vertical-align: middle;\n",
              "    }\n",
              "\n",
              "    .dataframe tbody tr th {\n",
              "        vertical-align: top;\n",
              "    }\n",
              "\n",
              "    .dataframe thead th {\n",
              "        text-align: right;\n",
              "    }\n",
              "</style>\n",
              "<table border=\"1\" class=\"dataframe\">\n",
              "  <thead>\n",
              "    <tr style=\"text-align: right;\">\n",
              "      <th></th>\n",
              "      <th>Treść</th>\n",
              "      <th>Kategoria</th>\n",
              "    </tr>\n",
              "  </thead>\n",
              "  <tbody>\n",
              "    <tr>\n",
              "      <th>0</th>\n",
              "      <td>Księżna Diana i książę Karol pobrali się 39 la...</td>\n",
              "      <td>1</td>\n",
              "    </tr>\n",
              "    <tr>\n",
              "      <th>1</th>\n",
              "      <td>Wielokrotnie zdradzana i niekochana Diana, któ...</td>\n",
              "      <td>1</td>\n",
              "    </tr>\n",
              "    <tr>\n",
              "      <th>2</th>\n",
              "      <td>Księżną Dianę po raz pierwszy zobaczył jesieni...</td>\n",
              "      <td>2</td>\n",
              "    </tr>\n",
              "    <tr>\n",
              "      <th>3</th>\n",
              "      <td>Ukończył Królewską Akademię Wojskową i został ...</td>\n",
              "      <td>2</td>\n",
              "    </tr>\n",
              "    <tr>\n",
              "      <th>4</th>\n",
              "      <td>4 maja 2017 roku brytyjskie media donosiły, że...</td>\n",
              "      <td>2</td>\n",
              "    </tr>\n",
              "    <tr>\n",
              "      <th>...</th>\n",
              "      <td>...</td>\n",
              "      <td>...</td>\n",
              "    </tr>\n",
              "    <tr>\n",
              "      <th>2011</th>\n",
              "      <td>Jaguar wciąż nie atakował; cofnął się jeszcze ...</td>\n",
              "      <td>3</td>\n",
              "    </tr>\n",
              "    <tr>\n",
              "      <th>2012</th>\n",
              "      <td>Obaj przeciwnicy — król lasów i król mokradeł ...</td>\n",
              "      <td>3</td>\n",
              "    </tr>\n",
              "    <tr>\n",
              "      <th>2013</th>\n",
              "      <td>Jaguar zamruczał zniecierpliwiony, skulił się ...</td>\n",
              "      <td>3</td>\n",
              "    </tr>\n",
              "    <tr>\n",
              "      <th>2014</th>\n",
              "      <td>Kajman z kolei, zupełnie niefrasobliwy, świado...</td>\n",
              "      <td>3</td>\n",
              "    </tr>\n",
              "    <tr>\n",
              "      <th>2015</th>\n",
              "      <td>Przebiegły kot tylko na to czekał. Widząc, że ...</td>\n",
              "      <td>3</td>\n",
              "    </tr>\n",
              "  </tbody>\n",
              "</table>\n",
              "<p>2016 rows × 2 columns</p>\n",
              "</div>"
            ],
            "text/plain": [
              "                                                  Treść  Kategoria\n",
              "0     Księżna Diana i książę Karol pobrali się 39 la...          1\n",
              "1     Wielokrotnie zdradzana i niekochana Diana, któ...          1\n",
              "2     Księżną Dianę po raz pierwszy zobaczył jesieni...          2\n",
              "3     Ukończył Królewską Akademię Wojskową i został ...          2\n",
              "4     4 maja 2017 roku brytyjskie media donosiły, że...          2\n",
              "...                                                 ...        ...\n",
              "2011  Jaguar wciąż nie atakował; cofnął się jeszcze ...          3\n",
              "2012  Obaj przeciwnicy — król lasów i król mokradeł ...          3\n",
              "2013  Jaguar zamruczał zniecierpliwiony, skulił się ...          3\n",
              "2014  Kajman z kolei, zupełnie niefrasobliwy, świado...          3\n",
              "2015  Przebiegły kot tylko na to czekał. Widząc, że ...          3\n",
              "\n",
              "[2016 rows x 2 columns]"
            ]
          },
          "metadata": {},
          "execution_count": 3
        }
      ]
    },
    {
      "cell_type": "code",
      "metadata": {
        "id": "YT_B4KqN1GJT"
      },
      "source": [
        "# Train, test and validation sets are prepared by selecting randomly, equal number of examples from each category.\n",
        "df1 = df[df['Kategoria']==1].sample(frac=1)\n",
        "df2 = df[df['Kategoria']==2].sample(frac=1)\n",
        "df3 = df[df['Kategoria']==3].sample(frac=1)\n",
        "df4 = df[df['Kategoria']==4].sample(frac=1)\n",
        "df_train = pd.concat([df1[128:],df2[128:],df3[128:],df4[128:]]).sample(frac=1)\n",
        "df_dev = pd.concat([df1[64:127],df2[64:127],df3[64:127],df4[64:127]]).sample(frac=1)\n",
        "df_test = pd.concat([df1[:63],df2[:63],df3[:63],df4[:63]]).sample(frac=1)"
      ],
      "execution_count": null,
      "outputs": []
    },
    {
      "cell_type": "markdown",
      "metadata": {
        "id": "jpE5ixXSHwSv"
      },
      "source": [
        "## Data presentation "
      ]
    },
    {
      "cell_type": "code",
      "metadata": {
        "colab": {
          "base_uri": "https://localhost:8080/",
          "height": 423
        },
        "id": "GqVOVG-8BKLQ",
        "outputId": "a7ac54e5-38c1-472f-a84c-ad6641b18239"
      },
      "source": [
        "df_test"
      ],
      "execution_count": null,
      "outputs": [
        {
          "output_type": "execute_result",
          "data": {
            "text/html": [
              "<div>\n",
              "<style scoped>\n",
              "    .dataframe tbody tr th:only-of-type {\n",
              "        vertical-align: middle;\n",
              "    }\n",
              "\n",
              "    .dataframe tbody tr th {\n",
              "        vertical-align: top;\n",
              "    }\n",
              "\n",
              "    .dataframe thead th {\n",
              "        text-align: right;\n",
              "    }\n",
              "</style>\n",
              "<table border=\"1\" class=\"dataframe\">\n",
              "  <thead>\n",
              "    <tr style=\"text-align: right;\">\n",
              "      <th></th>\n",
              "      <th>Treść</th>\n",
              "      <th>Kategoria</th>\n",
              "    </tr>\n",
              "  </thead>\n",
              "  <tbody>\n",
              "    <tr>\n",
              "      <th>1477</th>\n",
              "      <td>Służący wyszedł z nim na korytarz, dotknął dzw...</td>\n",
              "      <td>2</td>\n",
              "    </tr>\n",
              "    <tr>\n",
              "      <th>245</th>\n",
              "      <td>Brał także udział w powstaniu kościuszkowskim.</td>\n",
              "      <td>1</td>\n",
              "    </tr>\n",
              "    <tr>\n",
              "      <th>19</th>\n",
              "      <td>Mikołaj i Aleksandra zastanawiali się, czy bol...</td>\n",
              "      <td>2</td>\n",
              "    </tr>\n",
              "    <tr>\n",
              "      <th>15</th>\n",
              "      <td>17 lipca 1918 roku rodzina Mikołaja II została...</td>\n",
              "      <td>3</td>\n",
              "    </tr>\n",
              "    <tr>\n",
              "      <th>1417</th>\n",
              "      <td>Pamiętam, że były tam porozstawiane działa prz...</td>\n",
              "      <td>2</td>\n",
              "    </tr>\n",
              "    <tr>\n",
              "      <th>...</th>\n",
              "      <td>...</td>\n",
              "      <td>...</td>\n",
              "    </tr>\n",
              "    <tr>\n",
              "      <th>1019</th>\n",
              "      <td>Powódź w 1897 roku wyrządziła straty przede ws...</td>\n",
              "      <td>3</td>\n",
              "    </tr>\n",
              "    <tr>\n",
              "      <th>2001</th>\n",
              "      <td>Były to głównie wełniaki brunatne, mierzące od...</td>\n",
              "      <td>3</td>\n",
              "    </tr>\n",
              "    <tr>\n",
              "      <th>1112</th>\n",
              "      <td>Mieszkańcy miasta przemieszczali się z miejsca...</td>\n",
              "      <td>4</td>\n",
              "    </tr>\n",
              "    <tr>\n",
              "      <th>688</th>\n",
              "      <td>Potem splądrowali mieszkanie, aby wyglądało na...</td>\n",
              "      <td>1</td>\n",
              "    </tr>\n",
              "    <tr>\n",
              "      <th>1609</th>\n",
              "      <td>Z dłoni sobie daszek nad oczami robił i w głąb...</td>\n",
              "      <td>2</td>\n",
              "    </tr>\n",
              "  </tbody>\n",
              "</table>\n",
              "<p>252 rows × 2 columns</p>\n",
              "</div>"
            ],
            "text/plain": [
              "                                                  Treść  Kategoria\n",
              "1477  Służący wyszedł z nim na korytarz, dotknął dzw...          2\n",
              "245      Brał także udział w powstaniu kościuszkowskim.          1\n",
              "19    Mikołaj i Aleksandra zastanawiali się, czy bol...          2\n",
              "15    17 lipca 1918 roku rodzina Mikołaja II została...          3\n",
              "1417  Pamiętam, że były tam porozstawiane działa prz...          2\n",
              "...                                                 ...        ...\n",
              "1019  Powódź w 1897 roku wyrządziła straty przede ws...          3\n",
              "2001  Były to głównie wełniaki brunatne, mierzące od...          3\n",
              "1112  Mieszkańcy miasta przemieszczali się z miejsca...          4\n",
              "688   Potem splądrowali mieszkanie, aby wyglądało na...          1\n",
              "1609  Z dłoni sobie daszek nad oczami robił i w głąb...          2\n",
              "\n",
              "[252 rows x 2 columns]"
            ]
          },
          "metadata": {},
          "execution_count": 5
        }
      ]
    },
    {
      "cell_type": "code",
      "metadata": {
        "colab": {
          "base_uri": "https://localhost:8080/",
          "height": 423
        },
        "id": "PS1K-4QVmicj",
        "outputId": "ceadbb95-fb35-42f5-84a7-ef20492f5408"
      },
      "source": [
        "df_train"
      ],
      "execution_count": null,
      "outputs": [
        {
          "output_type": "execute_result",
          "data": {
            "text/html": [
              "<div>\n",
              "<style scoped>\n",
              "    .dataframe tbody tr th:only-of-type {\n",
              "        vertical-align: middle;\n",
              "    }\n",
              "\n",
              "    .dataframe tbody tr th {\n",
              "        vertical-align: top;\n",
              "    }\n",
              "\n",
              "    .dataframe thead th {\n",
              "        text-align: right;\n",
              "    }\n",
              "</style>\n",
              "<table border=\"1\" class=\"dataframe\">\n",
              "  <thead>\n",
              "    <tr style=\"text-align: right;\">\n",
              "      <th></th>\n",
              "      <th>Treść</th>\n",
              "      <th>Kategoria</th>\n",
              "    </tr>\n",
              "  </thead>\n",
              "  <tbody>\n",
              "    <tr>\n",
              "      <th>1356</th>\n",
              "      <td>Odkrycia dokonał poprzez zanurzenie w zakwaszo...</td>\n",
              "      <td>2</td>\n",
              "    </tr>\n",
              "    <tr>\n",
              "      <th>1337</th>\n",
              "      <td>Baldwin IV zaraził się trądem w wieku dziecięc...</td>\n",
              "      <td>2</td>\n",
              "    </tr>\n",
              "    <tr>\n",
              "      <th>435</th>\n",
              "      <td>Wściekły uderzył Jonesa z całej siły rękojeści...</td>\n",
              "      <td>1</td>\n",
              "    </tr>\n",
              "    <tr>\n",
              "      <th>1308</th>\n",
              "      <td>Spojrzałam na twarze kobiet skupione, opanowan...</td>\n",
              "      <td>2</td>\n",
              "    </tr>\n",
              "    <tr>\n",
              "      <th>586</th>\n",
              "      <td>Niedługo po wybuchu wojny, w maju 1915 r., zos...</td>\n",
              "      <td>2</td>\n",
              "    </tr>\n",
              "    <tr>\n",
              "      <th>...</th>\n",
              "      <td>...</td>\n",
              "      <td>...</td>\n",
              "    </tr>\n",
              "    <tr>\n",
              "      <th>1880</th>\n",
              "      <td>Przez całą noc ryczał w pobliżu jaguar, a pies...</td>\n",
              "      <td>3</td>\n",
              "    </tr>\n",
              "    <tr>\n",
              "      <th>1725</th>\n",
              "      <td>Miała zakaszlać się, tak jak bywało zwykle, il...</td>\n",
              "      <td>2</td>\n",
              "    </tr>\n",
              "    <tr>\n",
              "      <th>180</th>\n",
              "      <td>Opanowanie tego grodu uznał za kluczowe dla je...</td>\n",
              "      <td>2</td>\n",
              "    </tr>\n",
              "    <tr>\n",
              "      <th>364</th>\n",
              "      <td>Ten widząc, że carowa domyśla się już czegoś, ...</td>\n",
              "      <td>2</td>\n",
              "    </tr>\n",
              "    <tr>\n",
              "      <th>1642</th>\n",
              "      <td>Bobry składają kastoreum na kilku lub kilkudzi...</td>\n",
              "      <td>3</td>\n",
              "    </tr>\n",
              "  </tbody>\n",
              "</table>\n",
              "<p>1504 rows × 2 columns</p>\n",
              "</div>"
            ],
            "text/plain": [
              "                                                  Treść  Kategoria\n",
              "1356  Odkrycia dokonał poprzez zanurzenie w zakwaszo...          2\n",
              "1337  Baldwin IV zaraził się trądem w wieku dziecięc...          2\n",
              "435   Wściekły uderzył Jonesa z całej siły rękojeści...          1\n",
              "1308  Spojrzałam na twarze kobiet skupione, opanowan...          2\n",
              "586   Niedługo po wybuchu wojny, w maju 1915 r., zos...          2\n",
              "...                                                 ...        ...\n",
              "1880  Przez całą noc ryczał w pobliżu jaguar, a pies...          3\n",
              "1725  Miała zakaszlać się, tak jak bywało zwykle, il...          2\n",
              "180   Opanowanie tego grodu uznał za kluczowe dla je...          2\n",
              "364   Ten widząc, że carowa domyśla się już czegoś, ...          2\n",
              "1642  Bobry składają kastoreum na kilku lub kilkudzi...          3\n",
              "\n",
              "[1504 rows x 2 columns]"
            ]
          },
          "metadata": {},
          "execution_count": 6
        }
      ]
    },
    {
      "cell_type": "code",
      "metadata": {
        "colab": {
          "base_uri": "https://localhost:8080/",
          "height": 423
        },
        "id": "7ul5n8z5DSan",
        "outputId": "12c55f59-6819-497c-d0bf-96ae8b625448"
      },
      "source": [
        "df_dev"
      ],
      "execution_count": null,
      "outputs": [
        {
          "output_type": "execute_result",
          "data": {
            "text/html": [
              "<div>\n",
              "<style scoped>\n",
              "    .dataframe tbody tr th:only-of-type {\n",
              "        vertical-align: middle;\n",
              "    }\n",
              "\n",
              "    .dataframe tbody tr th {\n",
              "        vertical-align: top;\n",
              "    }\n",
              "\n",
              "    .dataframe thead th {\n",
              "        text-align: right;\n",
              "    }\n",
              "</style>\n",
              "<table border=\"1\" class=\"dataframe\">\n",
              "  <thead>\n",
              "    <tr style=\"text-align: right;\">\n",
              "      <th></th>\n",
              "      <th>Treść</th>\n",
              "      <th>Kategoria</th>\n",
              "    </tr>\n",
              "  </thead>\n",
              "  <tbody>\n",
              "    <tr>\n",
              "      <th>1476</th>\n",
              "      <td>Wokulski zaczął przeglądać listy.</td>\n",
              "      <td>2</td>\n",
              "    </tr>\n",
              "    <tr>\n",
              "      <th>859</th>\n",
              "      <td>W Hadze 3000 spadochroniarzy nie tylko nie po...</td>\n",
              "      <td>4</td>\n",
              "    </tr>\n",
              "    <tr>\n",
              "      <th>1268</th>\n",
              "      <td>Niemcy ściągali coraz to większe posiłki, jed...</td>\n",
              "      <td>4</td>\n",
              "    </tr>\n",
              "    <tr>\n",
              "      <th>1353</th>\n",
              "      <td>Ofiara choroby kładzie się spać i śpi w dobrym...</td>\n",
              "      <td>2</td>\n",
              "    </tr>\n",
              "    <tr>\n",
              "      <th>24</th>\n",
              "      <td>Sam wybrał katów.</td>\n",
              "      <td>1</td>\n",
              "    </tr>\n",
              "    <tr>\n",
              "      <th>...</th>\n",
              "      <td>...</td>\n",
              "      <td>...</td>\n",
              "    </tr>\n",
              "    <tr>\n",
              "      <th>1572</th>\n",
              "      <td>Tylko brwi jej ściągnęły się nad oczami, które...</td>\n",
              "      <td>3</td>\n",
              "    </tr>\n",
              "    <tr>\n",
              "      <th>1465</th>\n",
              "      <td>Wokulski pierwszy raz spostrzega dom trzypiętr...</td>\n",
              "      <td>2</td>\n",
              "    </tr>\n",
              "    <tr>\n",
              "      <th>724</th>\n",
              "      <td>W 1956 r., już po przybyciu do Meksyku i pozna...</td>\n",
              "      <td>1</td>\n",
              "    </tr>\n",
              "    <tr>\n",
              "      <th>204</th>\n",
              "      <td>Mieszkańcy tego miasta z powodu upału w trakc...</td>\n",
              "      <td>4</td>\n",
              "    </tr>\n",
              "    <tr>\n",
              "      <th>899</th>\n",
              "      <td>Najpierw Żydom zabroniono wstępu do miejsc pub...</td>\n",
              "      <td>4</td>\n",
              "    </tr>\n",
              "  </tbody>\n",
              "</table>\n",
              "<p>252 rows × 2 columns</p>\n",
              "</div>"
            ],
            "text/plain": [
              "                                                  Treść  Kategoria\n",
              "1476                  Wokulski zaczął przeglądać listy.          2\n",
              "859    W Hadze 3000 spadochroniarzy nie tylko nie po...          4\n",
              "1268   Niemcy ściągali coraz to większe posiłki, jed...          4\n",
              "1353  Ofiara choroby kładzie się spać i śpi w dobrym...          2\n",
              "24                                    Sam wybrał katów.          1\n",
              "...                                                 ...        ...\n",
              "1572  Tylko brwi jej ściągnęły się nad oczami, które...          3\n",
              "1465  Wokulski pierwszy raz spostrzega dom trzypiętr...          2\n",
              "724   W 1956 r., już po przybyciu do Meksyku i pozna...          1\n",
              "204    Mieszkańcy tego miasta z powodu upału w trakc...          4\n",
              "899   Najpierw Żydom zabroniono wstępu do miejsc pub...          4\n",
              "\n",
              "[252 rows x 2 columns]"
            ]
          },
          "metadata": {},
          "execution_count": 7
        }
      ]
    },
    {
      "cell_type": "code",
      "metadata": {
        "colab": {
          "base_uri": "https://localhost:8080/",
          "height": 294
        },
        "id": "as6K6j-PmsYb",
        "outputId": "bb5d29a7-3306-4f7b-e06a-3c183a52bba7"
      },
      "source": [
        "# Train set\n",
        "import matplotlib.pyplot as plt\n",
        "fig, ax = plt.subplots()\n",
        "fig.suptitle(\"y\", fontsize=12)\n",
        "df_train[\"Kategoria\"].reset_index().groupby(\"Kategoria\").count().sort_values(by= \n",
        "       \"index\").plot(kind=\"barh\", legend=False, \n",
        "        ax=ax).grid(axis='x')\n",
        "plt.show()"
      ],
      "execution_count": null,
      "outputs": [
        {
          "output_type": "display_data",
          "data": {
            "image/png": "[encoded data removed]",
            "text/plain": [
              "<Figure size 432x288 with 1 Axes>"
            ]
          },
          "metadata": {
            "needs_background": "light"
          }
        }
      ]
    },
    {
      "cell_type": "code",
      "metadata": {
        "colab": {
          "base_uri": "https://localhost:8080/",
          "height": 294
        },
        "id": "Pdwua1ddKbMX",
        "outputId": "aff3aa7e-87d7-4b63-b7fe-05f2d02dcbed"
      },
      "source": [
        "# Test set\n",
        "fig, ax = plt.subplots()\n",
        "fig.suptitle(\"y\", fontsize=12)\n",
        "df_test[\"Kategoria\"].reset_index().groupby(\"Kategoria\").count().sort_values(by= \n",
        "       \"index\").plot(kind=\"barh\", legend=False, \n",
        "        ax=ax).grid(axis='x')\n",
        "plt.show()"
      ],
      "execution_count": null,
      "outputs": [
        {
          "output_type": "display_data",
          "data": {
            "image/png": "[encoded data removed]",
            "text/plain": [
              "<Figure size 432x288 with 1 Axes>"
            ]
          },
          "metadata": {
            "needs_background": "light"
          }
        }
      ]
    },
    {
      "cell_type": "code",
      "metadata": {
        "colab": {
          "base_uri": "https://localhost:8080/",
          "height": 294
        },
        "id": "6LxEdRM9KiUX",
        "outputId": "fc4bb430-dcf0-4925-910d-ffb43728ad66"
      },
      "source": [
        "# Validation set \n",
        "fig, ax = plt.subplots()\n",
        "fig.suptitle(\"y\", fontsize=12)\n",
        "df_dev[\"Kategoria\"].reset_index().groupby(\"Kategoria\").count().sort_values(by= \n",
        "       \"index\").plot(kind=\"barh\", legend=False, \n",
        "        ax=ax).grid(axis='x')\n",
        "plt.show()"
      ],
      "execution_count": null,
      "outputs": [
        {
          "output_type": "display_data",
          "data": {
            "image/png": "[encoded data removed]",
            "text/plain": [
              "<Figure size 432x288 with 1 Axes>"
            ]
          },
          "metadata": {
            "needs_background": "light"
          }
        }
      ]
    },
    {
      "cell_type": "markdown",
      "metadata": {
        "id": "5dJDu7OZIAU1"
      },
      "source": [
        "## Preparing, training and evaluating "
      ]
    },
    {
      "cell_type": "code",
      "metadata": {
        "id": "imZvXUgenZW9"
      },
      "source": [
        "# This class loads and prepares data to fit criteria necessary to use BERT\n",
        "class ARCorpus(Dataset):\n",
        "  def __init__(self, train_df, val_df, test_df):\n",
        "    self.label_dict = {1: 0, 2: 1, 3: 2, 4: 3}\n",
        "\n",
        "    self.train_df = train_df\n",
        "    self.val_df = val_df\n",
        "    self.test_df = test_df\n",
        "\n",
        "    self.tokenizer = HerbertTokenizerFast.from_pretrained('allegro/herbert-base-cased')\n",
        "    self.train_data = None\n",
        "    self.val_data = None\n",
        "    self.test_data = None\n",
        "    self.init_data()\n",
        "\n",
        "  def init_data(self):\n",
        "    self.train_data = self.load_data(self.train_df)\n",
        "    self.val_data = self.load_data(self.val_df)\n",
        "    self.test_data = self.load_data(self.test_df)\n",
        "\n",
        "\n",
        "  def load_data(self, df):\n",
        "    MAX_LEN = 128\n",
        "    token_ids = []\n",
        "    mask_ids = []\n",
        "    seg_ids = []\n",
        "    y = []\n",
        "\n",
        "    text_list = df['Treść'].to_list()\n",
        "    label_list = df['Kategoria'].to_list()\n",
        "\n",
        "\n",
        "    for (text, label) in zip(text_list, label_list):\n",
        "      text_id = self.tokenizer.encode(text, add_special_tokens = False, max_length=510, truncation=True)\n",
        "      pair_token_ids = [self.tokenizer.cls_token_id] + text_id + [self.tokenizer.sep_token_id]\n",
        "      text_len = len(text_id)\n",
        "\n",
        "      segment_ids = torch.tensor([0] * (text_len + 2) )  # text\n",
        "      attention_mask_ids = torch.tensor([1] * (text_len + 2))\n",
        "\n",
        "      token_ids.append(torch.tensor(pair_token_ids))\n",
        "      seg_ids.append(segment_ids)\n",
        "      mask_ids.append(attention_mask_ids)\n",
        "      y.append(self.label_dict[label])\n",
        "    token_ids = pad_sequence(token_ids, batch_first=True)\n",
        "    mask_ids = pad_sequence(mask_ids, batch_first=True)\n",
        "    seg_ids = pad_sequence(seg_ids, batch_first=True)\n",
        "    y = torch.tensor(y)\n",
        "    dataset = TensorDataset(token_ids, mask_ids, seg_ids, y)\n",
        "    return dataset\n",
        "\n",
        "  def get_data_loaders(self, batch_size=15, shuffle=True):\n",
        "    # DataLoaders for trainig data, test data and validation data \n",
        "    train_loader = DataLoader(\n",
        "      self.train_data,\n",
        "      shuffle=shuffle,\n",
        "      batch_size=batch_size\n",
        "    )\n",
        "\n",
        "    val_loader = DataLoader(\n",
        "      self.val_data,\n",
        "      shuffle=shuffle,\n",
        "      batch_size=batch_size\n",
        "    )\n",
        "\n",
        "    test_loader = DataLoader(\n",
        "      self.test_data,\n",
        "      shuffle=shuffle,\n",
        "      batch_size=batch_size\n",
        "    )\n",
        "\n",
        "    return train_loader, val_loader, test_loader"
      ],
      "execution_count": null,
      "outputs": []
    },
    {
      "cell_type": "code",
      "metadata": {
        "id": "Sf8kOkA1n939"
      },
      "source": [
        "# Crates an objects with data prepared for classification \n",
        "train_loader, val_loader, test_loader = ARCorpus(df_train, df_dev, df_test).get_data_loaders()"
      ],
      "execution_count": null,
      "outputs": []
    },
    {
      "cell_type": "code",
      "metadata": {
        "colab": {
          "base_uri": "https://localhost:8080/"
        },
        "id": "xtD7RdPmoPpn",
        "outputId": "12500a2c-0dc3-4675-ce23-5289775c1532"
      },
      "source": [
        "# Downloads a HerBERT model used for classification and optimizer\n",
        "from transformers import AutoModelForSequenceClassification, AdamW \n",
        "model = AutoModelForSequenceClassification.from_pretrained(\"allegro/herbert-base-cased\", num_labels=5).to('cuda')\n",
        "\n",
        "no_decay = ['bias', 'LayerNorm.weight']\n",
        "optimizer_grouped_parameters = [\n",
        "    {'params': [p for n, p in model.named_parameters() if not any(nd in n for nd in no_decay)], 'weight_decay': 0.01},\n",
        "    {'params': [p for n, p in model.named_parameters() if any(nd in n for nd in no_decay)], 'weight_decay': 0.0}\n",
        "]\n",
        "optimizer = AdamW(optimizer_grouped_parameters, lr=1e-5)"
      ],
      "execution_count": null,
      "outputs": [
        {
          "output_type": "stream",
          "name": "stderr",
          "text": [
            "Some weights of the model checkpoint at allegro/herbert-base-cased were not used when initializing BertForSequenceClassification: ['cls.predictions.decoder.weight', 'cls.predictions.transform.LayerNorm.weight', 'cls.predictions.bias', 'cls.predictions.transform.dense.bias', 'cls.sso.sso_relationship.bias', 'cls.sso.sso_relationship.weight', 'cls.predictions.transform.LayerNorm.bias', 'cls.predictions.decoder.bias', 'cls.predictions.transform.dense.weight']\n",
            "- This IS expected if you are initializing BertForSequenceClassification from the checkpoint of a model trained on another task or with another architecture (e.g. initializing a BertForSequenceClassification model from a BertForPreTraining model).\n",
            "- This IS NOT expected if you are initializing BertForSequenceClassification from the checkpoint of a model that you expect to be exactly identical (initializing a BertForSequenceClassification model from a BertForSequenceClassification model).\n",
            "Some weights of BertForSequenceClassification were not initialized from the model checkpoint at allegro/herbert-base-cased and are newly initialized: ['classifier.weight', 'classifier.bias']\n",
            "You should probably TRAIN this model on a down-stream task to be able to use it for predictions and inference.\n"
          ]
        }
      ]
    },
    {
      "cell_type": "code",
      "metadata": {
        "id": "1__IHjGboS3-"
      },
      "source": [
        "# Function for computing probability of predictions given labels\n",
        "def multi_acc(y_pred, y_test):\n",
        "  acc = (torch.log_softmax(y_pred, dim=1).argmax(dim=1) == y_test).sum().float() / float(y_test.size(0))\n",
        "  return acc"
      ],
      "execution_count": null,
      "outputs": []
    },
    {
      "cell_type": "code",
      "metadata": {
        "id": "ge_Z2hHCoVxk"
      },
      "source": [
        "# Train Function\n",
        "import time\n",
        "import copy\n",
        "\n",
        "EPOCHS = 4\n",
        "device = torch.device(\"cuda\" if torch.cuda.is_available() else \"cpu\")\n",
        "\n",
        "def train(model, train_loader, val_loader, optimizer):\n",
        "  since = time.time()\n",
        "  best_model_wts = copy.deepcopy(model.state_dict())\n",
        "  best_acc = 0.0\n",
        "  best_epoch = 0\n",
        "\n",
        "  for epoch in range(EPOCHS):\n",
        "    start = time.time()\n",
        "    # Setting model to training mode\n",
        "    model.train()\n",
        "    total_train_loss = 0\n",
        "    total_train_acc  = 0\n",
        "    for batch_idx, (pair_token_ids, mask_ids, seg_ids, y) in enumerate(train_loader):\n",
        "      optimizer.zero_grad()\n",
        "      pair_token_ids = pair_token_ids.to(device)\n",
        "      mask_ids = mask_ids.to(device)\n",
        "      seg_ids = seg_ids.to(device)\n",
        "      labels = y.to(device)\n",
        "      # Forward step\n",
        "      # Returning loss and prediction in order to count the accuracy on dev set \n",
        "        \n",
        "      loss, prediction = model(pair_token_ids, \n",
        "                             token_type_ids=seg_ids, \n",
        "                             attention_mask=mask_ids, \n",
        "                             labels=labels).values()\n",
        "\n",
        "\n",
        "      acc = multi_acc(prediction, labels)\n",
        "    \n",
        "      # Backward step\n",
        "      loss.backward()\n",
        "      optimizer.step()\n",
        "\n",
        "      total_train_loss += loss.item()\n",
        "      total_train_acc  += acc.item()\n",
        "\n",
        "    # Mean accuracy and loss in every batch\n",
        "    train_acc  = total_train_acc/len(train_loader)\n",
        "    train_loss = total_train_loss/len(train_loader)\n",
        "\n",
        "    # Setting model to evaluation mode\n",
        "    model.eval()\n",
        "    total_val_acc  = 0\n",
        "    total_val_loss = 0\n",
        "\n",
        "    with torch.no_grad():\n",
        "      for batch_idx, (pair_token_ids, mask_ids, seg_ids, y) in enumerate(val_loader):\n",
        "        optimizer.zero_grad()\n",
        "        pair_token_ids = pair_token_ids.to(device)\n",
        "        mask_ids = mask_ids.to(device)\n",
        "        seg_ids = seg_ids.to(device)\n",
        "        labels = y.to(device)\n",
        "        loss, prediction = model(pair_token_ids, \n",
        "                             token_type_ids=seg_ids, \n",
        "                             attention_mask=mask_ids, \n",
        "                             labels=labels).values()\n",
        "        \n",
        "        acc = multi_acc(prediction, labels)\n",
        "\n",
        "        total_val_loss += loss.item()\n",
        "        total_val_acc  += acc.item()\n",
        "\n",
        "    val_acc  = total_val_acc/len(val_loader)\n",
        "    val_loss = total_val_loss/len(val_loader)\n",
        "    end = time.time()\n",
        "\n",
        "    if val_acc > best_acc:\n",
        "      best_acc = val_acc\n",
        "      best_epoch = epoch\n",
        "# Copying parameters of the best model\n",
        "      best_model_wts = copy.deepcopy(model.state_dict())\n",
        "\n",
        "    hours, rem = divmod(end-start, 3600)\n",
        "    minutes, seconds = divmod(rem, 60)\n",
        "\n",
        "    print(f'Epoch {epoch+1}: train_loss: {train_loss:.4f} train_acc: {train_acc:.4f} | val_loss: {val_loss:.4f} val_acc: {val_acc:.4f}')\n",
        "    print(\"{:0>2}:{:0>2}:{:05.2f}\".format(int(hours),int(minutes),seconds))\n",
        "  print()\n",
        "  time_elapsed = time.time() - since\n",
        "  print('Training complete in {:.0f}m {:.0f}s'.format(time_elapsed // 60, time_elapsed % 60))\n",
        "  print('Best dev Acc: {:4f} in {} epoch'.format(best_acc, best_epoch+1))\n",
        "\n",
        "# Loads and returns weights of the best model \n",
        "  model.load_state_dict(best_model_wts)\n",
        "  return model"
      ],
      "execution_count": null,
      "outputs": []
    },
    {
      "cell_type": "code",
      "metadata": {
        "colab": {
          "base_uri": "https://localhost:8080/"
        },
        "id": "ryDn8Khyoh4u",
        "outputId": "a032adb1-2775-460e-eba4-e6fcf72bef05"
      },
      "source": [
        "entailment_model = train(model, train_loader, val_loader, optimizer)"
      ],
      "execution_count": null,
      "outputs": [
        {
          "output_type": "stream",
          "name": "stdout",
          "text": [
            "Epoch 1: train_loss: 1.1388 train_acc: 0.5795 | val_loss: 0.5889 val_acc: 0.8157\n",
            "00:01:09.52\n",
            "Epoch 2: train_loss: 0.4698 train_acc: 0.8530 | val_loss: 0.4146 val_acc: 0.8696\n",
            "00:01:09.15\n",
            "Epoch 3: train_loss: 0.2929 train_acc: 0.9069 | val_loss: 0.3645 val_acc: 0.8569\n",
            "00:01:09.05\n",
            "Epoch 4: train_loss: 0.1767 train_acc: 0.9512 | val_loss: 0.3522 val_acc: 0.8931\n",
            "00:01:09.08\n",
            "\n",
            "Training complete in 4m 37s\n",
            "Best dev Acc: 0.893137 in 4 epoch\n"
          ]
        }
      ]
    },
    {
      "cell_type": "code",
      "metadata": {
        "colab": {
          "base_uri": "https://localhost:8080/"
        },
        "id": "weTLSo8TokIv",
        "outputId": "509c05ce-af91-42bf-d8fe-7544fe388b3c"
      },
      "source": [
        "# Evaluation on test set \n",
        "\n",
        "total_test_loss = 0\n",
        "total_test_acc  = 0\n",
        "\n",
        "labels_all = []\n",
        "predictions_all = []\n",
        "target_names = [\"1\", \"2\", \"3\", \"4\"]\n",
        "\n",
        "device = torch.device(\"cuda\" if torch.cuda.is_available() else \"cpu\")\n",
        "    \n",
        "for batch_idx, (pair_token_ids, mask_ids, seg_ids, y) in enumerate(test_loader):\n",
        "  optimizer.zero_grad()\n",
        "  pair_token_ids = pair_token_ids.to(device)\n",
        "  mask_ids = mask_ids.to(device)\n",
        "  seg_ids = seg_ids.to(device)\n",
        "  labels = y.to(device)\n",
        "  \n",
        "  loss, prediction = entailment_model(pair_token_ids,\n",
        "                           token_type_ids=seg_ids,\n",
        "                           attention_mask=mask_ids,\n",
        "                           labels=labels).values()\n",
        "\n",
        "  acc = multi_acc(prediction, labels)\n",
        "\n",
        "  total_test_loss += loss.item()\n",
        "  total_test_acc  += acc.item()\n",
        "\n",
        "  labels_all += [l.item() for l in labels]\n",
        "  predictions_all += [p.item() for p in torch.log_softmax(prediction, dim=1).argmax(dim=1)]\n",
        "\n",
        "test_acc  = total_test_acc/len(test_loader)\n",
        "test_loss = total_test_loss/len(test_loader)\n",
        "\n",
        "print(f'Test_loss: {test_loss:.4f} test_acc: {test_acc:.4f}')"
      ],
      "execution_count": null,
      "outputs": [
        {
          "output_type": "stream",
          "name": "stdout",
          "text": [
            "Test_loss: 0.3583 test_acc: 0.8784\n"
          ]
        }
      ]
    },
    {
      "cell_type": "code",
      "metadata": {
        "colab": {
          "base_uri": "https://localhost:8080/"
        },
        "id": "ALgJCQNdosqt",
        "outputId": "694b802e-4d44-4bb6-edd4-492bd489f4d7"
      },
      "source": [
        "# Results\n",
        "\n",
        "\n",
        "from sklearn.metrics import classification_report\n",
        "print(classification_report(labels_all, predictions_all, target_names=target_names))"
      ],
      "execution_count": null,
      "outputs": [
        {
          "output_type": "stream",
          "name": "stdout",
          "text": [
            "              precision    recall  f1-score   support\n",
            "\n",
            "           1       0.82      0.92      0.87        63\n",
            "           2       0.86      0.76      0.81        63\n",
            "           3       0.90      0.90      0.90        63\n",
            "           4       0.95      0.94      0.94        63\n",
            "\n",
            "    accuracy                           0.88       252\n",
            "   macro avg       0.88      0.88      0.88       252\n",
            "weighted avg       0.88      0.88      0.88       252\n",
            "\n"
          ]
        }
      ]
    }
  ]
}