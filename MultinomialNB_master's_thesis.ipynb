{
  "nbformat": 4,
  "nbformat_minor": 0,
  "metadata": {
    "colab": {
      "name": "MultinomialNB_master's_thesis.ipynb",
      "provenance": [],
      "authorship_tag": "ABX9TyOiDcMCQ02aNI4iNWbCcgjC",
      "include_colab_link": true
    },
    "kernelspec": {
      "name": "python3",
      "display_name": "Python 3"
    },
    "language_info": {
      "name": "python"
    }
  },
  "cells": [
    {
      "cell_type": "markdown",
      "metadata": {
        "id": "view-in-github",
        "colab_type": "text"
      },
      "source": [
        "<a href=\"https://colab.research.google.com/github/MateuszSab/Master-s-Thesis---Mateusz-Sabatowski/blob/main/MultinomialNB_master's_thesis.ipynb\" target=\"_parent\"><img src=\"https://colab.research.google.com/assets/colab-badge.svg\" alt=\"Open In Colab\"/></a>"
      ]
    },
    {
      "cell_type": "code",
      "metadata": {
        "id": "paYYo_cezIaz"
      },
      "source": [
        "import pandas as pd\n",
        "import numpy as np\n",
        "from sklearn.model_selection import train_test_split\n",
        "from sklearn.feature_extraction.text import CountVectorizer\n",
        "from sklearn.naive_bayes import MultinomialNB\n",
        "from sklearn.metrics import accuracy_score,confusion_matrix"
      ],
      "execution_count": 3,
      "outputs": []
    },
    {
      "cell_type": "code",
      "metadata": {
        "id": "rgDm2QzWzQjM"
      },
      "source": [
        "df = pd.read_csv('/content/data.csv')"
      ],
      "execution_count": 4,
      "outputs": []
    },
    {
      "cell_type": "code",
      "metadata": {
        "id": "epW8b8yyzRJb"
      },
      "source": [
        "# Train, test and validation sets are prepared by selecting randomly, equal number of examples from each category. The same division like in HerBERT model.\n",
        "df1 = df[df['Kategoria']==1].sample(frac=1)\n",
        "df2 = df[df['Kategoria']==2].sample(frac=1)\n",
        "df3 = df[df['Kategoria']==3].sample(frac=1)\n",
        "df4 = df[df['Kategoria']==4].sample(frac=1)\n",
        "train_df = pd.concat([df1[128:],df2[128:],df3[128:],df4[128:]]).sample(frac=1)\n",
        "df_dev = pd.concat([df1[64:127],df2[64:127],df3[64:127],df4[64:127]]).sample(frac=1)\n",
        "test_df = pd.concat([df1[:63],df2[:63],df3[:63],df4[:63]]).sample(frac=1)"
      ],
      "execution_count": 11,
      "outputs": []
    },
    {
      "cell_type": "code",
      "metadata": {
        "id": "ovOeiTaszUJj"
      },
      "source": [
        "x=train_df[\"Treść\"]\n",
        "y=train_df[\"Kategoria\"]"
      ],
      "execution_count": 12,
      "outputs": []
    },
    {
      "cell_type": "code",
      "metadata": {
        "id": "-OeLTVkKzW-L"
      },
      "source": [
        "X_train,X_test,y_train,y_test=train_test_split(x,y,test_size=0.2,random_state=42)"
      ],
      "execution_count": 14,
      "outputs": []
    },
    {
      "cell_type": "code",
      "metadata": {
        "colab": {
          "base_uri": "https://localhost:8080/"
        },
        "id": "wTgKpkdazYpr",
        "outputId": "64648001-55c8-4759-9562-14e4b53a1554"
      },
      "source": [
        "print(X_train.shape,X_test.shape,y_train.shape,y_test.shape)"
      ],
      "execution_count": 15,
      "outputs": [
        {
          "output_type": "stream",
          "name": "stdout",
          "text": [
            "(1203,) (301,) (1203,) (301,)\n"
          ]
        }
      ]
    },
    {
      "cell_type": "code",
      "metadata": {
        "id": "ygSz74-qzaub"
      },
      "source": [
        "# Vectorization of sentences based on the frequency of words within a sentence\n",
        "vect = CountVectorizer()\n",
        "\n",
        "x_train_cv = vect.fit_transform(X_train)\n",
        "x_test_cv = vect.transform(X_test)"
      ],
      "execution_count": 16,
      "outputs": []
    },
    {
      "cell_type": "code",
      "metadata": {
        "colab": {
          "base_uri": "https://localhost:8080/"
        },
        "id": "rcJX2b6BzdHb",
        "outputId": "6d1ee001-e736-47b5-d80e-20138c15c0b9"
      },
      "source": [
        "model = MultinomialNB()\n",
        "model.fit(x_train_cv, y_train)"
      ],
      "execution_count": 17,
      "outputs": [
        {
          "output_type": "execute_result",
          "data": {
            "text/plain": [
              "MultinomialNB()"
            ]
          },
          "metadata": {},
          "execution_count": 17
        }
      ]
    },
    {
      "cell_type": "code",
      "metadata": {
        "id": "CcfN8Z0Tzizk"
      },
      "source": [
        "pred=model.predict(x_test_cv)"
      ],
      "execution_count": 18,
      "outputs": []
    },
    {
      "cell_type": "code",
      "metadata": {
        "colab": {
          "base_uri": "https://localhost:8080/"
        },
        "id": "kBYPwpvczk-j",
        "outputId": "e0e13c1e-d088-4c25-81db-aa61de3a809e"
      },
      "source": [
        "# Results \n",
        "from sklearn.metrics import classification_report\n",
        "print(classification_report(y_test,pred))"
      ],
      "execution_count": 19,
      "outputs": [
        {
          "output_type": "stream",
          "name": "stdout",
          "text": [
            "              precision    recall  f1-score   support\n",
            "\n",
            "           1       0.66      0.58      0.62        90\n",
            "           2       0.64      0.71      0.68        73\n",
            "           3       0.71      0.62      0.67        64\n",
            "           4       0.64      0.73      0.68        74\n",
            "\n",
            "    accuracy                           0.66       301\n",
            "   macro avg       0.66      0.66      0.66       301\n",
            "weighted avg       0.66      0.66      0.66       301\n",
            "\n"
          ]
        }
      ]
    }
  ]
}